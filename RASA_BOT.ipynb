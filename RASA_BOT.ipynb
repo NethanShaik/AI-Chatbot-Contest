{
 "cells": [
  {
   "cell_type": "code",
   "execution_count": 5,
   "id": "c430c418",
   "metadata": {},
   "outputs": [],
   "source": [
    "import gradio as gr\n",
    "import pandas as pd\n",
    "import gensim\n",
    "from gensim.parsing.preprocessing import preprocess_documents\n",
    "from gensim.models.doc2vec import Doc2Vec, TaggedDocument"
   ]
  },
  {
   "cell_type": "code",
   "execution_count": 6,
   "id": "ce5c55fe",
   "metadata": {},
   "outputs": [],
   "source": [
    "df = pd.read_csv(\"/Users/nethanshaik/Desktop/wiki_movie_plots_deduped.csv\", sep=\",\")\n",
    "df = df[df[\"Release Year\"] >= 2000]\n",
    "text_corpus = df[\"Plot\"].values"
   ]
  },
  {
   "cell_type": "code",
   "execution_count": 7,
   "id": "6ad438f4",
   "metadata": {},
   "outputs": [],
   "source": [
    "processed_corpus = preprocess_documents(text_corpus)\n",
    "tagged_corpus = [TaggedDocument(d, [i]) for i, d in enumerate(processed_corpus)]"
   ]
  },
  {
   "cell_type": "code",
   "execution_count": 8,
   "id": "61a01465",
   "metadata": {},
   "outputs": [],
   "source": [
    "model = Doc2Vec(tagged_corpus, dm=0, vector_size=200, window=2, min_count=1, epochs=100, hs=1)"
   ]
  },
  {
   "cell_type": "code",
   "execution_count": 10,
   "id": "3020ea7d",
   "metadata": {},
   "outputs": [
    {
     "name": "stdout",
     "output_type": "stream",
     "text": [
      "Caching examples at: '/Users/nethanshaik/Desktop/gradio_cached_examples/15'\n",
      "Caching example 1/3\n"
     ]
    },
    {
     "name": "stderr",
     "output_type": "stream",
     "text": [
      "/var/folders/7v/3jhb84r14kl6c31b11j0jv300000gn/T/ipykernel_59456/3245357851.py:6: DeprecationWarning: Call to deprecated `docvecs` (The `docvecs` property has been renamed `dv`.).\n",
      "  sims = model.docvecs.most_similar(positive=[test_dot_vector])\n"
     ]
    },
    {
     "name": "stdout",
     "output_type": "stream",
     "text": [
      "Caching example 2/3\n",
      "Caching example 3/3\n",
      "Running on local URL:  http://127.0.0.1:7860\n",
      "\n",
      "To create a public link, set `share=True` in `launch()`.\n"
     ]
    },
    {
     "data": {
      "text/html": [
       "<div><iframe src=\"http://127.0.0.1:7860/\" width=\"100%\" height=\"500\" allow=\"autoplay; camera; microphone; clipboard-read; clipboard-write;\" frameborder=\"0\" allowfullscreen></iframe></div>"
      ],
      "text/plain": [
       "<IPython.core.display.HTML object>"
      ]
     },
     "metadata": {},
     "output_type": "display_data"
    },
    {
     "data": {
      "text/plain": []
     },
     "execution_count": 10,
     "metadata": {},
     "output_type": "execute_result"
    },
    {
     "name": "stderr",
     "output_type": "stream",
     "text": [
      "/var/folders/7v/3jhb84r14kl6c31b11j0jv300000gn/T/ipykernel_59456/3245357851.py:6: DeprecationWarning: Call to deprecated `docvecs` (The `docvecs` property has been renamed `dv`.).\n",
      "  sims = model.docvecs.most_similar(positive=[test_dot_vector])\n"
     ]
    }
   ],
   "source": [
    "def chatbot(message, history):\n",
    "  # Default response if no keyword matches\n",
    "    default_response = \"Sorry, I'm not sure how to respond to that. Can you try asking something else?\"\n",
    "    new_doc = gensim.parsing.preprocessing.preprocess_string(message)\n",
    "    test_dot_vector = model.infer_vector(new_doc)\n",
    "    sims = model.docvecs.most_similar(positive=[test_dot_vector])\n",
    "    for s in sims:\n",
    "      prediction = f\"{df['Title'].iloc[s[0]]}\"\n",
    "      break\n",
    "      \n",
    "    if prediction:\n",
    "      return prediction\n",
    "  # Return default response if no keywords found\n",
    "    return default_response\n",
    "\n",
    "\n",
    "# Launch the application\n",
    "gr.ChatInterface(\n",
    "    chatbot,\n",
    "    chatbot=gr.Chatbot(height=300),\n",
    "    textbox=gr.Textbox(placeholder=\"Type the plot of the movie\", container=False, scale=7),\n",
    "    title=\"Movie Suggestion Chatbot\",\n",
    "    description=\"Write the plot of the movie you want and it will suggest you a movie based on that.\",\n",
    "    theme=\"soft\",\n",
    "    examples=[\"Space ships go to war\", \"Magic Cat takes stuff out of his pocket\", \"Blonde woman goes on a killing spree in Japan.\"],\n",
    "    cache_examples=True,\n",
    "    retry_btn=None,\n",
    "    undo_btn=\"Delete Previous\",\n",
    "    clear_btn=\"Clear\",\n",
    ").launch()\n"
   ]
  },
  {
   "cell_type": "code",
   "execution_count": null,
   "id": "e7517f0a",
   "metadata": {},
   "outputs": [],
   "source": []
  }
 ],
 "metadata": {
  "kernelspec": {
   "display_name": "Python 3 (ipykernel)",
   "language": "python",
   "name": "python3"
  },
  "language_info": {
   "codemirror_mode": {
    "name": "ipython",
    "version": 3
   },
   "file_extension": ".py",
   "mimetype": "text/x-python",
   "name": "python",
   "nbconvert_exporter": "python",
   "pygments_lexer": "ipython3",
   "version": "3.11.2"
  }
 },
 "nbformat": 4,
 "nbformat_minor": 5
}
